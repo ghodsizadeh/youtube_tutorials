{
 "cells": [
  {
   "cell_type": "markdown",
   "id": "b9c2cb32-021f-4b92-90c3-313cd2efb2d0",
   "metadata": {
    "slideshow": {
     "slide_type": "slide"
    },
    "tags": []
   },
   "source": [
    "# SciKit-Learn\n",
    "- Simple and efficient tools for predictive data analysis\n",
    "- Accessible to everybody, and reusable in various contexts\n",
    "- Built on NumPy, SciPy, and matplotlib\n",
    "- Open source, commercially usable - BSD license"
   ]
  },
  {
   "cell_type": "markdown",
   "id": "3d0dcf9e-28bf-4b5d-b6ef-a77f83fda64d",
   "metadata": {
    "slideshow": {
     "slide_type": "slide"
    },
    "tags": []
   },
   "source": [
    "## Usage\n",
    "### 1. Classification\n",
    "Identifying which category an object belongs to.\n",
    "\n",
    "**Applications**: Spam detection, image recognition.\n",
    "\n",
    "**Algorithms**: SVM, nearest neighbors, random forest, and more...\n",
    "\n",
    "\n",
    "\n",
    "\n",
    "<img src='https://scikit-learn.org/stable/_images/sphx_glr_plot_classifier_comparison_001_carousel.png' />"
   ]
  },
  {
   "cell_type": "markdown",
   "id": "b3f42648-9ad7-407c-8864-55d31d7a8937",
   "metadata": {
    "slideshow": {
     "slide_type": "slide"
    },
    "tags": []
   },
   "source": [
    "### 2. Regression\n",
    "\n",
    "Predicting a continuous-valued attribute associated with an object.\n",
    "\n",
    "**Applications**: Drug response, Stock prices.\n",
    "\n",
    "**Algorithms**: SVR, nearest neighbors, random forest, and more...\n",
    "\n",
    "<img src='https://scikit-learn.org/stable/_images/sphx_glr_plot_adaboost_regression_thumb.png' />"
   ]
  },
  {
   "cell_type": "markdown",
   "id": "5b74f009-b39c-43d4-affb-0ea4745708d9",
   "metadata": {
    "slideshow": {
     "slide_type": "slide"
    },
    "tags": []
   },
   "source": [
    "### 3.Clustering\n",
    "Automatic grouping of similar objects into sets.\n",
    "\n",
    "**Applications**: Customer segmentation, Grouping experiment outcomes\n",
    "\n",
    "**Algorithms**: k-Means, spectral clustering, mean-shift, and more...\n",
    "\n",
    "<img src='https://scikit-learn.org/stable/_images/sphx_glr_plot_kmeans_digits_thumb.png' />"
   ]
  },
  {
   "cell_type": "markdown",
   "id": "e6cb5242-eae6-4b3d-9f16-79286c746ef4",
   "metadata": {
    "slideshow": {
     "slide_type": "slide"
    },
    "tags": []
   },
   "source": [
    "### 4. Dimensionality reduction\n",
    "\n",
    "\n",
    "Reducing the number of random variables to consider.\n",
    "\n",
    "**Applications**: Visualization, Increased efficiency\n",
    "\n",
    "**Algorithms**: k-Means, feature selection, non-negative matrix factorization, and more...\n",
    "\n",
    "<img src='https://scikit-learn.org/stable/_images/sphx_glr_plot_pca_iris_thumb.png' />\n"
   ]
  },
  {
   "cell_type": "markdown",
   "id": "273a0a9a-f100-4bec-b1cd-1d895b090a4b",
   "metadata": {
    "slideshow": {
     "slide_type": "slide"
    },
    "tags": []
   },
   "source": [
    "### 5. Model selection\n",
    "Comparing, validating and choosing parameters and models.\n",
    "\n",
    "**Applications**: Improved accuracy via parameter tuning\n",
    "\n",
    "**Algorithms**: grid search, cross validation, metrics, and more...\n",
    "<img src='https://scikit-learn.org/stable/_images/sphx_glr_plot_multi_metric_evaluation_thumb.png' />"
   ]
  },
  {
   "cell_type": "markdown",
   "id": "a3c320a0-8ba0-4be0-997d-68ce40f2dcea",
   "metadata": {
    "slideshow": {
     "slide_type": "slide"
    },
    "tags": []
   },
   "source": [
    "### 6. Preprocessing\n",
    "Feature extraction and normalization.\n",
    "\n",
    "**Applications**: Transforming input data such as text for use with machine learning algorithms.\n",
    "\n",
    "**Algorithms**: preprocessing, feature extraction, and more...\n",
    "\n",
    "<img src='https://scikit-learn.org/stable/_images/sphx_glr_plot_discretization_strategies_thumb.png' />"
   ]
  }
 ],
 "metadata": {
  "kernelspec": {
   "display_name": "Python 3.8.9 64-bit",
   "language": "python",
   "name": "python389jvsc74a57bd0aee8b7b246df8f9039afb4144a1f6fd8d2ca17a180786b69acc140d282b71a49"
  },
  "language_info": {
   "codemirror_mode": {
    "name": "ipython",
    "version": 3
   },
   "file_extension": ".py",
   "mimetype": "text/x-python",
   "name": "python",
   "nbconvert_exporter": "python",
   "pygments_lexer": "ipython3",
   "version": "3.8.9"
  },
  "toc-autonumbering": false,
  "toc-showcode": false,
  "toc-showmarkdowntxt": false
 },
 "nbformat": 4,
 "nbformat_minor": 5
}
